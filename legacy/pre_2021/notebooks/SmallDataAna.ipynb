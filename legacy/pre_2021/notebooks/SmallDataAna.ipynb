{
 "cells": [
  {
   "cell_type": "markdown",
   "metadata": {},
   "source": [
    "## Setup - Load the data as the SmallDataAna object"
   ]
  },
  {
   "cell_type": "code",
   "execution_count": null,
   "metadata": {},
   "outputs": [],
   "source": [
    "import sys\n",
    "sys.path.append('/reg/d/psdm/xpp/xpplt2417/results/smalldata_tools/smalldata_tools')\n",
    "import SmallDataAna as sda\n",
    "\n",
    "ana = sda.SmallDataAna('xpptut15',211, plotWith='bokeh_notebook')"
   ]
  },
  {
   "cell_type": "markdown",
   "metadata": {},
   "source": [
    "## Plot incoming x-ray intensity (i0) to decide on the selection/filter - 1-d plot"
   ]
  },
  {
   "cell_type": "code",
   "execution_count": null,
   "metadata": {},
   "outputs": [],
   "source": [
    "ipmAr = ana.plotVar('ipm2/sum')#, useFilter='on')\n",
    "ana.addCut('lightStatus/xray',0.5,1.5,'on')\n",
    "#ana.addCut('lightStatus/laser',0.5,1.5,'on')\n",
    "ana.addCut('ipm2/sum',0.1,10.,'on')"
   ]
  },
  {
   "cell_type": "code",
   "execution_count": null,
   "metadata": {},
   "outputs": [],
   "source": [
    "ipm3Ar = ana.plotVar('ipm3/sum')#, useFilter='on')"
   ]
  },
  {
   "cell_type": "markdown",
   "metadata": {},
   "source": [
    "## Example for a 2-d plot (SND diodes)"
   ]
  },
  {
   "cell_type": "code",
   "execution_count": null,
   "metadata": {},
   "outputs": [],
   "source": [
    "hstsig = ana.plotVar(['ipm3/sum','ebeam/L3_energy'],asHist=True,useFilter='on')\n",
    "#ana.addCut('tt/FLTPOSFWHM',80.,130.,'on')"
   ]
  },
  {
   "cell_type": "code",
   "execution_count": null,
   "metadata": {},
   "outputs": [],
   "source": [
    "ana.Keys('ebeam')"
   ]
  }
 ],
 "metadata": {
  "anaconda-cloud": {},
  "kernelspec": {
   "display_name": "Python 2 ana-current",
   "language": "python",
   "name": "ana-current"
  },
  "language_info": {
   "codemirror_mode": {
    "name": "ipython",
    "version": 2
   },
   "file_extension": ".py",
   "mimetype": "text/x-python",
   "name": "python",
   "nbconvert_exporter": "python",
   "pygments_lexer": "ipython2",
   "version": "2.7.15"
  }
 },
 "nbformat": 4,
 "nbformat_minor": 2
}
