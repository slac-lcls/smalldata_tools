{
 "cells": [
  {
   "cell_type": "code",
   "execution_count": null,
   "metadata": {},
   "outputs": [],
   "source": [
    "import sys\n",
    "import time\n",
    "import numpy as np\n",
    "sys.path.append('/reg/d/psdm/xpp/xpplt2417/results/smalldata_tools/smalldata_tools')\n",
    "\n",
    "import holoviews as hv\n",
    "hv.extension('bokeh')\n",
    "from CubeAna import CubeAna\n",
    "clipping = {'min': 'red', 'max': 'green', 'NaN': 'gray'}"
   ]
  },
  {
   "cell_type": "markdown",
   "metadata": {},
   "source": [
    "#Make the cube/binned data. Typically this would be done by using makeCube.py/cubeRun\n",
    "Calling makeCubeData on anaps will automatically write an hdf5 file in hdf5/smalldata\n",
    "CubeAna will then read this file."
   ]
  },
  {
   "cell_type": "code",
   "execution_count": null,
   "metadata": {},
   "outputs": [],
   "source": [
    "import SmallDataAna_psana as sdaps\n",
    "anaps = sdaps.SmallDataAna_psana('xpptut15',211)\n",
    "anaps.sda.addCut('lightStatus/xray',0.5,1.5,'on')\n",
    "anaps.sda.addCut('lightStatus/laser',0.5,1.5,'on')\n",
    "anaps.sda.addCut('ipm2/sum',0.1,10.,'on')\n",
    "anaps.sda.addCube('cube','scan/ccmE_vernier',[],'on')\n",
    "anaps.sda.addToCube('cube',['ipm3/sum','diodeU/channels'])\n",
    "cubeData = anaps.makeCubeData('cube')"
   ]
  },
  {
   "cell_type": "code",
   "execution_count": null,
   "metadata": {},
   "outputs": [],
   "source": [
    "run=211\n",
    "ca = CubeAna('xpptut15',run, cubeName='cube',plotWith='bokeh_notebook') #test w/ new info"
   ]
  },
  {
   "cell_type": "code",
   "execution_count": null,
   "metadata": {},
   "outputs": [],
   "source": [
    "ca.Keys()"
   ]
  },
  {
   "cell_type": "code",
   "execution_count": null,
   "metadata": {},
   "outputs": [],
   "source": [
    "ca.plotCube(sig=['diodeU__channels',3])#,i0='ipm3__sum')"
   ]
  }
 ],
 "metadata": {
  "kernelspec": {
   "display_name": "Python 2 ana-current",
   "language": "python",
   "name": "ana-current"
  },
  "language_info": {
   "codemirror_mode": {
    "name": "ipython",
    "version": 2
   },
   "file_extension": ".py",
   "mimetype": "text/x-python",
   "name": "python",
   "nbconvert_exporter": "python",
   "pygments_lexer": "ipython2",
   "version": "2.7.15"
  }
 },
 "nbformat": 4,
 "nbformat_minor": 2
}
